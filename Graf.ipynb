{
 "cells": [
  {
   "cell_type": "markdown",
   "metadata": {},
   "source": [
    "<div class=\"alert alert-block alert-warning\">\n",
    "    Za probu sam koristio grafove sa<b> \n",
    "<a href=\"http://snap.stanford.edu/data/index.html\">SNAP Stanford</a>\n",
    "    </b>a posebno <b><a href=\"http://snap.stanford.edu/data/as-Skitter.html\">Internet topology graph </a></b>. Grafovi su dati u txt i csv formatima kao <b><i>\"list of edges\"</i></b>. Struktura koja predstavlja graf je <b><i>dictionary</i></b>, gde je <i>key</i> broj noda, a <i>value</i> lista nodova koji su povezani sa njim. Kako to izgleda mozete videti kad pokrenete program koji sam vam poslao. Posto su nodovi predstavljeni brojevima od 0 do n-1, potrebna je i tabela sa dve kolone kako bi se svakom nodu (tj imenu noda) pridruzio broj. </div>"
   ]
  },
  {
   "cell_type": "markdown",
   "metadata": {},
   "source": [
    "<h3> Prvo sam probao u Python-u, ali je Integer objekat velicine 28 bajtova </h3>"
   ]
  },
  {
   "cell_type": "code",
   "execution_count": 1,
   "metadata": {},
   "outputs": [],
   "source": [
    "#import modula koji omogucava kompajliranje koda\n",
    "import cython"
   ]
  },
  {
   "cell_type": "code",
   "execution_count": 2,
   "metadata": {},
   "outputs": [],
   "source": [
    "%load_ext Cython"
   ]
  },
  {
   "cell_type": "code",
   "execution_count": 3,
   "metadata": {},
   "outputs": [],
   "source": [
    "%%cython\n",
    "\n",
    "def graf(file):\n",
    "    Graf = {}\n",
    "    f = open(file)\n",
    "    for line in f:\n",
    "        brojevi = line.split('\\t')\n",
    "        key=int(brojevi[0])\n",
    "        value=int(brojevi[1][:-1])\n",
    "        Graf.setdefault(key,[]).append(value)\n",
    "        Graf.setdefault(value,[]).append(key)\n",
    "    f.close()\n",
    "    return Graf"
   ]
  },
  {
   "cell_type": "markdown",
   "metadata": {},
   "source": [
    "<h3> U C-u je graf predstavljen nizom pointera na linked list strukture, ali je to bilo sporije od Python-a </h3>"
   ]
  },
  {
   "cell_type": "markdown",
   "metadata": {},
   "source": [
    "<div>\n",
    "<pre>\n",
    "<code>\n",
    "#include &lt;stdio.h&gt;\n",
    "#include &lt;stdlib.h&gt;\n",
    " \n",
    "typedef struct Vertices{\n",
    "\t\t\tint V;\n",
    "\t\t\tstruct Vertices *Link;\n",
    "\t\t\t} Vertex;\n",
    "\n",
    "/* Unapred znamo broj nodova pa mozemo da deklarisemo niz */\n",
    "struct Vertices *arrayOfVertices[1000000];\n",
    "\n",
    "void InsertNewNode(int V, Vertex **L) {\n",
    "\tVertex *N, *P;\n",
    "\tN = (Vertex*)malloc(sizeof(Vertex));\n",
    "\tN->V = V;\n",
    "\tN->Link = NULL;\n",
    "\tif (*L == NULL) {\n",
    "\t\t*L = N;\n",
    "\t}\n",
    "\telse {\n",
    "\t\tP = *L;\n",
    "\t\twhile (P->Link != NULL) P = P->Link;\n",
    "\t\tP->Link = N;\n",
    "\t}\n",
    "\n",
    "}\n",
    "struct Vertices *InsertVertexInArray(int nod_od) {\n",
    "\n",
    "\tstruct Vertices *head, *temp;\n",
    "\thead = NULL;\t/*Prazna lista */\n",
    "\thead = malloc(sizeof(struct Vertices));\n",
    "\thead->V = nod_od;\n",
    "\thead->Link = NULL;\n",
    "\treturn head;\n",
    "}\n",
    "int main()\n",
    "{\n",
    "\tint nod_od, nod_ka;\n",
    "\tFILE *fp;\n",
    "\tfp = fopen(\"proba.txt\", \"r\");\n",
    "\n",
    "\tVertex *L;\n",
    "\tL = NULL;\n",
    "\n",
    "\twhile (!feof(fp))\n",
    "\t{\n",
    "\t\tfscanf(fp, \"%d %d\", &nod_od, &nod_ka);\n",
    "\t\tif (arrayOfVertices[nod_od]==NULL) {\n",
    "\t\t\tarrayOfVertices[nod_od] = InsertVertexInArray(nod_od);\n",
    "\t\t\tInsertNewNode(nod_ka, &arrayOfVertices[nod_od]);\n",
    "\t\t\t}\n",
    "\t\telse {\n",
    "\n",
    "\t\t\tInsertNewNode(nod_ka, &arrayOfVertices[nod_od]);\n",
    "\t\t}\n",
    "\t\tif (arrayOfVertices[nod_ka] == NULL) {\n",
    "\t\t\tarrayOfVertices[nod_ka] = InsertVertexInArray(nod_ka);\n",
    "\t\t\tInsertNewNode(nod_od, &arrayOfVertices[nod_ka]);\n",
    "\t\t}\n",
    "\t\telse {\n",
    "\n",
    "\t\t\tInsertNewNode(nod_od, &arrayOfVertices[nod_ka]);\n",
    "\t\t}\t\n",
    "\t\t\n",
    "\t}\n",
    "\n",
    "\tfclose(fp);\n",
    "\treturn 0;\n",
    "}\n",
    "</code>\n",
    "</pre>\n",
    " </div>"
   ]
  },
  {
   "cell_type": "markdown",
   "metadata": {},
   "source": [
    "<h3>I na kraju varijanta u C#, isto dictonary kao u Python-u</h3>"
   ]
  },
  {
   "cell_type": "markdown",
   "metadata": {},
   "source": [
    "<div>\n",
    "<pre>\n",
    "<code>\n",
    "using System;\n",
    "using System.Collections.Generic;\n",
    "using System.Collections.Concurrent;\n",
    "\n",
    "\n",
    "namespace graphConcurrent\n",
    "{\n",
    "    class Program\n",
    "    {\n",
    "        static void Main(string[] args)\n",
    "        {\n",
    "          int numProcs = Environment.ProcessorCount;\n",
    "          int concurrencyLevel = numProcs;\n",
    "          int initialCapacity = 3000017;\n",
    "\n",
    "          ConcurrentDictionary &lt;int, List&lt;int&gt;&gt; Graph =\n",
    "                   new ConcurrentDictionary&lt;int, List&lt;int&gt;&gt;(concurrencyLevel, initialCapacity);\n",
    "          string line;\n",
    "\n",
    "\n",
    "          System.IO.StreamReader file =\n",
    "              new System.IO.StreamReader(args[0]);\n",
    "\n",
    "            \n",
    "\n",
    "          while ((line = file.ReadLine()) != null)\n",
    "            {\n",
    "               string[] items = line.Split('\\t');\n",
    "               int odNoda = int.Parse(items[0]);\n",
    "               int kaNodu = int.Parse(items[1]);\n",
    "\n",
    "                \n",
    "        Graph.AddOrUpdate(odNoda, new List<int> { kaNodu }, (k, v) => {Graph[odNoda].Add(kaNodu); return v;});\n",
    "        Graph.AddOrUpdate(kaNodu, new List<int> { odNoda }, (v, k) => {Graph[kaNodu].Add(odNoda); return k;});\n",
    "           }\n",
    "\n",
    "            file.Close();\n",
    "     \n",
    "        }\n",
    "\n",
    "        \n",
    "    }\n",
    "}\n",
    "</code>\n",
    "</pre>\n",
    "</div>"
   ]
  },
  {
   "cell_type": "markdown",
   "metadata": {},
   "source": [
    "Za graf od 1.7 milona nodova i 11 miliona grana (internet topology graph sa pocetka), potrebno mu je (C#) ~15 sekundi da ga generise i zauzima ~ 150 MB. Vreme potrebno za generisanje i velicina objekta rastu linearno (sa brojem grana)  pa je za generisanje npr grafa sa 100 miliona nodova potrebno ~ 150 sekundi i zauzima ~ 1.5 GB"
   ]
  }
 ],
 "metadata": {
  "kernelspec": {
   "display_name": "Python 3",
   "language": "python",
   "name": "python3"
  },
  "language_info": {
   "codemirror_mode": {
    "name": "ipython",
    "version": 3
   },
   "file_extension": ".py",
   "mimetype": "text/x-python",
   "name": "python",
   "nbconvert_exporter": "python",
   "pygments_lexer": "ipython3",
   "version": "3.8.5"
  }
 },
 "nbformat": 4,
 "nbformat_minor": 4
}
